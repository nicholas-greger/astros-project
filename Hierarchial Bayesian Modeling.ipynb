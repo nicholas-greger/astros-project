{
 "cells": [
  {
   "cell_type": "markdown",
   "metadata": {},
   "source": [
    "# Predictive Modeling of the 2017 Season"
   ]
  },
  {
   "cell_type": "markdown",
   "metadata": {},
   "source": [
    "The 2017 report into the sign stealing scandel definitively proved that sign stealing occurred. However, the question as to whether the team benefited from sign stealing was not addressed and \"would require rank speculation.\" We disagree, [there are a number of models](https://doi.org/10.1007/978-1-4419-6730-5_6) (E. Santos-Fernandez et al 8), mainly using Bayesian techniques, and in some instances, hidden Markov models, which are capable of predicting a variety of performance statistics, and in some instances, [entire games](http://inase.org/library/2014/santorini/bypaper/COMPUTERS/COMPUTERS2-05.pdf). So far, we have shown that sign stealing, at least in apperance, has improved their statistics, however we have not yet proven that they have benifited from sign stealing. This section addresses whether or not the Astros benefited from sign stealing in a what-could-have-happened scenario. "
   ]
  },
  {
   "cell_type": "markdown",
   "metadata": {},
   "source": [
    "## Hierarchial Bayesian Modeling"
   ]
  },
  {
   "cell_type": "markdown",
   "metadata": {},
   "source": [
    "**Discussion**\n",
    "\n",
    "We will be using a hierarchial Bayesian model to predict hitting performanec of each player. The specific model we will be using was published by Jensen, McShane, and Wyner, in their 2009 paper, [\"Hierarchical Bayesian Modeling of Hitting Performance in Baseball\"](https://projecteuclid.org/euclid.ba/1340369815). This specific model has a number of advantages. Firstly, this technique models player performance across time. This greatly aids our analysis as we are able to compare both the accuracy of the model on player statistics as well as the ability to justify using the model when predicting the 2017 season. Should the model mostly accuractly predict prior seasons for players, then the model should predict what probably would have occurred should sign-stealing not have taken place. We must make an important distinction: this is not what would have occurred, merely what probably would have occurred..\n",
    "\n",
    "To determine whether the difference between the recorded and predicted values are different enough, we will be using the [Mann-Whitney U-test](https://en.wikipedia.org/wiki/Mann–Whitney_U_test) to determine whether the difference between the data has any significance. Should p < 0.05, then we have shown that the differenec between the recorded and predicted values is significant, either that the cheating helped their performance, or significantly detremented their performance. "
   ]
  },
  {
   "cell_type": "markdown",
   "metadata": {},
   "source": [
    "**The Model**"
   ]
  },
  {
   "cell_type": "code",
   "execution_count": null,
   "metadata": {},
   "outputs": [],
   "source": []
  }
 ],
 "metadata": {
  "kernelspec": {
   "display_name": "Python 3",
   "language": "python",
   "name": "python3"
  },
  "language_info": {
   "codemirror_mode": {
    "name": "ipython",
    "version": 3
   },
   "file_extension": ".py",
   "mimetype": "text/x-python",
   "name": "python",
   "nbconvert_exporter": "python",
   "pygments_lexer": "ipython3",
   "version": "3.7.4"
  }
 },
 "nbformat": 4,
 "nbformat_minor": 2
}
