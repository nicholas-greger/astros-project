{
 "cells": [
  {
   "cell_type": "markdown",
   "metadata": {},
   "source": [
    "# Basic Info\n"
   ]
  },
  {
   "cell_type": "markdown",
   "metadata": {},
   "source": [
    "Project Title: Comprehensive analysis of the 2017 Astros sign stealing scandal\n",
    "- Andy Hanson andy.hanson@utah.edu u0772196\n",
    "- Nicholas Forbes nforbes@seis.utah.edu u0875540\n",
    "- Nik Greger nicholas.greger@utah.edu u01221628"
   ]
  },
  {
   "cell_type": "markdown",
   "metadata": {},
   "source": [
    "# Background and Motivation"
   ]
  },
  {
   "cell_type": "markdown",
   "metadata": {},
   "source": [
    "During the early portion of the 2017 major league baseball season (28 May - 21 September 2017), the Houston Astros began a sign stealing campaign against other teams in the league. Alex Cora, then the Astros bench coach, began calling up to the media office in order to gain information on the opposing teams pitch signals presented by the catcher. This expanded into an operation of live-streaming the center field camera to the Astros dugout in order to decode signals throughout the majority of the season. This methodical progression led the Houston Astros to their first World Series championship in franchise history\n",
    "\n",
    "The practice of sign stealing within professional sports established the Astros in history and later the unethical behavior came to light when information was leaked by current and former players during the Fall of 2019. This information expanded into one of the largest scandals in major league baseball history and has since caused disruption amongst players throughout the league. There have been initial [analyses performed](http://signstealingscandal.com/statistical-analysis/), but this project will delve further into the team and player statistics in order to prove that this campaign made an impact on the 2017 season. Additionally, we hypothesize that we will see evidence of cheating in seasons following 2017. This study could improve the timeline and further pin down the extent of this scandal."
   ]
  },
  {
   "cell_type": "markdown",
   "metadata": {},
   "source": [
    "# Project Objectives "
   ]
  },
  {
   "cell_type": "markdown",
   "metadata": {},
   "source": [
    "The objective of this project will be to provide an analytical comparison of the practices put into place during the 2017 season and to further analyze the positive or negative impacts that this had on the players, teams and league.\n",
    " \n",
    "We will ask four fundamental questions:\n",
    "1. To what extent did the Houston Astros cheat?\n",
    "2. Did they benefit from their cheating?\n",
    "3. Did certain players benefit more from the sign signals and others? If so, to what extent?\n",
    "4. Is there a firm time window in which the cheating took place.\n"
   ]
  },
  {
   "cell_type": "markdown",
   "metadata": {},
   "source": [
    "# Data"
   ]
  },
  {
   "cell_type": "markdown",
   "metadata": {},
   "source": [
    "Our data will be obtained using trusted major league baseball statistics websites where some will need to be scraped if our API is not successful. The first dataset will contain the information surrounding the sign stealing campaign which was created by a fan who watched every game during the 2017 season and recorded every instance of cheating (cheating is established by the banging of a trash can in the Astros dugout). The second dataset will contain the team and player statistics for our comparisons. Specific statistics that will be used:\n",
    "\n",
    "- At Bats (AB) - Number of times a player came up to bat during a season\n",
    "- Batting Average (AVG) - Number of hits divided by number of at bats\n",
    "- Hits (H) - Number of hits obtained by a team/player\n",
    "- Home Runs (HR) - Number of home runs hit by a team/player\n",
    "- On Base Percentage (OBP) - How often a player reaches a base per at bat\n",
    "- On Base Percentage + Slugging (OPS) - Combination of OBP and slugging\n",
    "- Wins Above Replacement (WAR) - number of wins a player adds on average to a team\n",
    "- Offensive Wins Above Replacement (oWAR) - number of wins a player adds on average based online on batting/offensive stats\n",
    "\n",
    "Utilizing these values will allow us to see if sign stealing had an impact on how successful the Houston Astros were during the 2017 season. \n",
    "signstealingscandal.com\n",
    "Baseball-reference.com\n",
    "Compare RBI, HR, Bat. Ave., OBP, OPS, Finish to see how/if the sign stealing made an impact.\n",
    "\n"
   ]
  },
  {
   "cell_type": "markdown",
   "metadata": {},
   "source": [
    "# Ethical Considerations"
   ]
  },
  {
   "cell_type": "markdown",
   "metadata": {},
   "source": [
    "Professional athletes are recognized for their determination and ability to achieve the upper echelon status of athletics. Introducing scandalous practices, such as sign stealing, only removes the pure ability that allows most to succeed at this level. Seeing as how the use of performance enhancing drugs is an illegal practice within major league baseball, how does a sign stealing campaign not withstand the same repercussions? This has been a fundamental question throughout the scandal period."
   ]
  },
  {
   "cell_type": "markdown",
   "metadata": {},
   "source": [
    "# Exploratory Analysis"
   ]
  },
  {
   "cell_type": "markdown",
   "metadata": {},
   "source": [
    "We will first use visualization practices in order to compare the Astros’ seasonal statistics against previous and following seasons to obtain a baseline performance of the team. Following this, we will compare additional teams to our initial findings, but more specifically, teams that finished at the top of their respective divisions. This process will be performed on the Los Angeles Dodgers, the Boston Red Sox, the Cleveland Indians, and the Washington Nationals. Doing this will give us a comparative model that we predict will show the enhanced performance of the Astros during their sign stealing campaign. Following this, we will further analyze the Astros to see if there were differences in batting statistics between home games, where their campaign was most prevalent, and away games. Furthermore, we will investigate the individual players to see if offensive statistical spikes were present and compare these results with previous and following seasons."
   ]
  },
  {
   "cell_type": "markdown",
   "metadata": {},
   "source": [
    "# Analysis Methodology"
   ]
  },
  {
   "cell_type": "markdown",
   "metadata": {},
   "source": [
    "Different regression models (linear, logistic, etc.) will be used depending on the values that are being analyzed. Linear regressions will be used in order to study the comparison of team statistics to other teams. Logistic regressions will be more specific to binary situations regarding when sign stealing was being utilized and when it was not in use. These methods should provide a well rounded result and conclusive evidence for the impact of cheating. "
   ]
  },
  {
   "cell_type": "markdown",
   "metadata": {},
   "source": [
    "# Project Schedule"
   ]
  },
  {
   "cell_type": "code",
   "execution_count": 14,
   "metadata": {},
   "outputs": [],
   "source": [
    "import pandas as pd\n",
    "df = pd.read_excel('prop_sched.xlsx')\n"
   ]
  },
  {
   "cell_type": "code",
   "execution_count": 15,
   "metadata": {},
   "outputs": [
    {
     "data": {
      "text/html": [
       "<div>\n",
       "<style scoped>\n",
       "    .dataframe tbody tr th:only-of-type {\n",
       "        vertical-align: middle;\n",
       "    }\n",
       "\n",
       "    .dataframe tbody tr th {\n",
       "        vertical-align: top;\n",
       "    }\n",
       "\n",
       "    .dataframe thead th {\n",
       "        text-align: right;\n",
       "    }\n",
       "</style>\n",
       "<table border=\"1\" class=\"dataframe\">\n",
       "  <thead>\n",
       "    <tr style=\"text-align: right;\">\n",
       "      <th></th>\n",
       "      <th>Dates</th>\n",
       "      <th>Project Segment</th>\n",
       "      <th>Status</th>\n",
       "    </tr>\n",
       "  </thead>\n",
       "  <tbody>\n",
       "    <tr>\n",
       "      <td>0</td>\n",
       "      <td>2020-02-26 00:00:00</td>\n",
       "      <td>Project Submission Form</td>\n",
       "      <td>Complete</td>\n",
       "    </tr>\n",
       "    <tr>\n",
       "      <td>1</td>\n",
       "      <td>2020-02-28 00:00:00</td>\n",
       "      <td>Project Proposal</td>\n",
       "      <td>--------</td>\n",
       "    </tr>\n",
       "    <tr>\n",
       "      <td>2</td>\n",
       "      <td>2020-03-05 00:00:00</td>\n",
       "      <td>Peer Feedback</td>\n",
       "      <td>--------</td>\n",
       "    </tr>\n",
       "    <tr>\n",
       "      <td>3</td>\n",
       "      <td>2020-03-08 00:00:00</td>\n",
       "      <td>Written Feedback (Staff)</td>\n",
       "      <td>--------</td>\n",
       "    </tr>\n",
       "    <tr>\n",
       "      <td>4</td>\n",
       "      <td>2020-03-04 00:00:00</td>\n",
       "      <td>Data Acquisition</td>\n",
       "      <td>--------</td>\n",
       "    </tr>\n",
       "    <tr>\n",
       "      <td>5</td>\n",
       "      <td>2020-03-06 00:00:00</td>\n",
       "      <td>Sign Stealing Data Scraped</td>\n",
       "      <td>--------</td>\n",
       "    </tr>\n",
       "    <tr>\n",
       "      <td>6</td>\n",
       "      <td>2020-03-13 00:00:00</td>\n",
       "      <td>2015-2019 Team Comparison</td>\n",
       "      <td>--------</td>\n",
       "    </tr>\n",
       "    <tr>\n",
       "      <td>7</td>\n",
       "      <td>2020-03-20 00:00:00</td>\n",
       "      <td>Initial Analysis</td>\n",
       "      <td>--------</td>\n",
       "    </tr>\n",
       "    <tr>\n",
       "      <td>8</td>\n",
       "      <td>2020-03-29 00:00:00</td>\n",
       "      <td>First Milestone</td>\n",
       "      <td>--------</td>\n",
       "    </tr>\n",
       "    <tr>\n",
       "      <td>9</td>\n",
       "      <td>March 20 - April 3</td>\n",
       "      <td>Feedback (Staff)</td>\n",
       "      <td>--------</td>\n",
       "    </tr>\n",
       "    <tr>\n",
       "      <td>10</td>\n",
       "      <td>2020-04-10 00:00:00</td>\n",
       "      <td>Final Analysis</td>\n",
       "      <td>--------</td>\n",
       "    </tr>\n",
       "    <tr>\n",
       "      <td>11</td>\n",
       "      <td>2020-04-15 00:00:00</td>\n",
       "      <td>Record Presentation</td>\n",
       "      <td>--------</td>\n",
       "    </tr>\n",
       "    <tr>\n",
       "      <td>12</td>\n",
       "      <td>April 19</td>\n",
       "      <td>Project Due</td>\n",
       "      <td>--------</td>\n",
       "    </tr>\n",
       "  </tbody>\n",
       "</table>\n",
       "</div>"
      ],
      "text/plain": [
       "                  Dates             Project Segment    Status\n",
       "0   2020-02-26 00:00:00     Project Submission Form  Complete\n",
       "1   2020-02-28 00:00:00            Project Proposal  --------\n",
       "2   2020-03-05 00:00:00               Peer Feedback  --------\n",
       "3   2020-03-08 00:00:00    Written Feedback (Staff)  --------\n",
       "4   2020-03-04 00:00:00            Data Acquisition  --------\n",
       "5   2020-03-06 00:00:00  Sign Stealing Data Scraped  --------\n",
       "6   2020-03-13 00:00:00   2015-2019 Team Comparison  --------\n",
       "7   2020-03-20 00:00:00            Initial Analysis  --------\n",
       "8   2020-03-29 00:00:00             First Milestone  --------\n",
       "9    March 20 - April 3            Feedback (Staff)  --------\n",
       "10  2020-04-10 00:00:00              Final Analysis  --------\n",
       "11  2020-04-15 00:00:00         Record Presentation  --------\n",
       "12            April 19                  Project Due  --------"
      ]
     },
     "execution_count": 15,
     "metadata": {},
     "output_type": "execute_result"
    }
   ],
   "source": [
    "df"
   ]
  },
  {
   "cell_type": "code",
   "execution_count": null,
   "metadata": {},
   "outputs": [],
   "source": []
  }
 ],
 "metadata": {
  "kernelspec": {
   "display_name": "Python 3",
   "language": "python",
   "name": "python3"
  },
  "language_info": {
   "codemirror_mode": {
    "name": "ipython",
    "version": 3
   },
   "file_extension": ".py",
   "mimetype": "text/x-python",
   "name": "python",
   "nbconvert_exporter": "python",
   "pygments_lexer": "ipython3",
   "version": "3.7.4"
  }
 },
 "nbformat": 4,
 "nbformat_minor": 2
}
